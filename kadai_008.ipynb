{
  "nbformat": 4,
  "nbformat_minor": 0,
  "metadata": {
    "colab": {
      "provenance": [],
      "authorship_tag": "ABX9TyOxmeGBAMrEvCjhTG0LmNvn",
      "include_colab_link": true
    },
    "kernelspec": {
      "name": "python3",
      "display_name": "Python 3"
    },
    "language_info": {
      "name": "python"
    }
  },
  "cells": [
    {
      "cell_type": "markdown",
      "metadata": {
        "id": "view-in-github",
        "colab_type": "text"
      },
      "source": [
        "<a href=\"https://colab.research.google.com/github/hirofumipon/bootstrap-basic-kadai/blob/main/kadai_008.ipynb\" target=\"_parent\"><img src=\"https://colab.research.google.com/assets/colab-badge.svg\" alt=\"Open In Colab\"/></a>"
      ]
    },
    {
      "cell_type": "code",
      "execution_count": 17,
      "metadata": {
        "colab": {
          "base_uri": "https://localhost:8080/"
        },
        "id": "IzxdpVADCpt6",
        "outputId": "00a204a1-ca7b-4240-db63-98aec13fc3bc"
      },
      "outputs": [
        {
          "output_type": "stream",
          "name": "stdout",
          "text": [
            "40\n",
            "Buzz\n"
          ]
        }
      ],
      "source": [
        "import random\n",
        "\n",
        "var=random.randint(1,100)\n",
        "\n",
        "print(var)\n",
        "\n",
        "if var%3==0:\n",
        "  print(\"Fizz\")\n",
        "elif var%5==0:\n",
        "  print(\"Buzz\")\n",
        "elif var%15==0:\n",
        "  print(\"FizzBuzz\")\n",
        "else:\n",
        "  print(\"var\")"
      ]
    },
    {
      "cell_type": "code",
      "source": [],
      "metadata": {
        "id": "Q8nErt5kEXbH"
      },
      "execution_count": 16,
      "outputs": []
    }
  ]
}